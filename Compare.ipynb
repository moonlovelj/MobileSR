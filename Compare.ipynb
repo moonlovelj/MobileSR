{
 "cells": [
  {
   "cell_type": "code",
   "execution_count": 8,
   "id": "401aab00-ba5b-4c05-a7c7-47be2099842f",
   "metadata": {},
   "outputs": [
    {
     "name": "stdout",
     "output_type": "stream",
     "text": [
      "差异图已保存到 G:/Data/Test/difference_image.png\n",
      "finish\n"
     ]
    }
   ],
   "source": [
    "import torch\n",
    "from PIL import Image\n",
    "import torchvision.transforms as transforms\n",
    "import matplotlib.pyplot as plt\n",
    "\n",
    "def load_image(image_path):\n",
    "    \"\"\"加载图像并转换为张量\"\"\"\n",
    "    image = Image.open(image_path).convert('RGB')\n",
    "    transform = transforms.ToTensor()\n",
    "    image_tensor = transform(image)\n",
    "    image.close()\n",
    "    return image_tensor\n",
    "\n",
    "def save_image(tensor, path):\n",
    "    \"\"\"保存张量为图像\"\"\"\n",
    "    image = transforms.ToPILImage()(tensor)\n",
    "    image.save(path)\n",
    "\n",
    "def compute_difference(image1_path, image2_path, output_path):\n",
    "    \"\"\"计算两个图像之间的差异并保存差异图\"\"\"\n",
    "    image1 = load_image(image1_path)\n",
    "    image2 = load_image(image2_path)\n",
    "    \n",
    "    # 确保图像尺寸相同\n",
    "    assert image1.shape == image2.shape, \"图像尺寸不同\"\n",
    "    \n",
    "    # 计算绝对差异\n",
    "    absolute_difference = torch.abs(image1 - image2)\n",
    "    \n",
    "    # 将差异归一化到0-1范围内以进行可视化\n",
    "    difference_image = absolute_difference / absolute_difference.max()\n",
    "    \n",
    "    # 保存差异图\n",
    "    save_image(difference_image, output_path)\n",
    "\n",
    "    print(f\"差异图已保存到 {output_path}\")\n",
    "\n",
    "# 示例路径\n",
    "image1_path = 'G:/Data/Test/SR_LANCZOS4_1.png'\n",
    "image2_path = 'G:/Data/Test/SR_1.png'\n",
    "output_path = 'G:/Data/Test/difference_image.png'\n",
    "\n",
    "# 计算并保存差异图\n",
    "compute_difference(image1_path, image2_path, output_path)\n",
    "\n",
    "print('finish')\n"
   ]
  }
 ],
 "metadata": {
  "kernelspec": {
   "display_name": "Python 3 (ipykernel)",
   "language": "python",
   "name": "python3"
  },
  "language_info": {
   "codemirror_mode": {
    "name": "ipython",
    "version": 3
   },
   "file_extension": ".py",
   "mimetype": "text/x-python",
   "name": "python",
   "nbconvert_exporter": "python",
   "pygments_lexer": "ipython3",
   "version": "3.12.3"
  }
 },
 "nbformat": 4,
 "nbformat_minor": 5
}
