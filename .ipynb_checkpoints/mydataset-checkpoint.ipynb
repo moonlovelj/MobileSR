{
 "cells": [
  {
   "cell_type": "code",
   "execution_count": null,
   "id": "76bfcdc8-530d-4f53-a97c-13e06606e612",
   "metadata": {},
   "outputs": [],
   "source": [
    "%run GlobalConfig.ipynb\n",
    "import os\n",
    "from PIL import Image\n",
    "import torch\n",
    "from torch.utils.data import Dataset, DataLoader\n",
    "import torchvision.transforms as transforms\n",
    "import numpy as np\n",
    "import cv2\n",
    "import math\n",
    "\n",
    "class MyDataset(Dataset):\n",
    "    def __init__(self, root_dir, scale_factor=global_scale_factor, transform=None):\n",
    "        self.root_dir = root_dir\n",
    "        self.scale_factor = scale_factor\n",
    "        self.transform = transform\n",
    "        self.image_files = self._load_image_files()\n",
    "        self.crop_size = (global_crop_size, global_crop_size)  # 统一尺寸 (height, width)\n",
    "\n",
    "    def _load_image_files(self):\n",
    "        # 读取所有高分辨率图像文件\n",
    "        return [f for f in os.listdir(self.root_dir) if f.endswith('.png') or f.endswith('.jpg')]\n",
    "\n",
    "    def _generate_lr_image(self, hr_image):\n",
    "        # 获取高分辨率图像尺寸\n",
    "        hr_width, hr_height = hr_image.size\n",
    "        lr_width, lr_height = hr_width // self.scale_factor, hr_height // self.scale_factor\n",
    "        \n",
    "        # 使用双三次插值生成低分辨率图像\n",
    "        hr_image_np = np.array(hr_image)\n",
    "        lr_image_np = cv2.resize(hr_image_np, (lr_width, lr_height), interpolation=cv2.INTER_CUBIC)\n",
    "        lr_image = Image.fromarray(lr_image_np)\n",
    "        return lr_image\n",
    "\n",
    "    def __len__(self):\n",
    "        return len(self.image_files)\n",
    "\n",
    "    def __getitem__(self, idx):\n",
    "        img_name = os.path.join(self.root_dir, self.image_files[idx])\n",
    "        hr_image = Image.open(img_name).convert('RGB')\n",
    "        hr_image = transforms.RandomCrop(self.crop_size)(hr_image)\n",
    "        lr_image = self._generate_lr_image(hr_image)\n",
    "\n",
    "        if self.transform:\n",
    "            hr_image = self.transform(hr_image)\n",
    "            lr_image = self.transform(lr_image)\n",
    "\n",
    "        return lr_image, hr_image\n",
    "\n",
    "# 数据转换和标准化\n",
    "transform = transforms.Compose([\n",
    "    transforms.ToTensor(),\n",
    "])\n"
   ]
  },
  {
   "cell_type": "code",
   "execution_count": null,
   "id": "6b401d2d-590a-4fa6-8226-48b4dfe39d0b",
   "metadata": {},
   "outputs": [],
   "source": []
  }
 ],
 "metadata": {
  "kernelspec": {
   "display_name": "Python 3 (ipykernel)",
   "language": "python",
   "name": "python3"
  },
  "language_info": {
   "codemirror_mode": {
    "name": "ipython",
    "version": 3
   },
   "file_extension": ".py",
   "mimetype": "text/x-python",
   "name": "python",
   "nbconvert_exporter": "python",
   "pygments_lexer": "ipython3",
   "version": "3.12.3"
  }
 },
 "nbformat": 4,
 "nbformat_minor": 5
}
