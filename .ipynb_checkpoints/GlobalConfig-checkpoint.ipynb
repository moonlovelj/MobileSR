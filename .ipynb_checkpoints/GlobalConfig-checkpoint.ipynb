{
 "cells": [
  {
   "cell_type": "code",
   "execution_count": null,
   "id": "7794a913-f7a5-4c9d-adfc-0fcc6093e011",
   "metadata": {},
   "outputs": [],
   "source": [
    "global_scale_factor = 2.0\n",
    "global_lut_size = [32, 32, 16]\n",
    "global_batch_size = 16\n",
    "global_crop_size = 256\n",
    "global_learn_rate = 0.001\n",
    "global_train_dataset_path = 'G:/Data/DIV2K_train_HR'  # 数据集路径\n",
    "global_valid_dataset_path = 'G:/Data/DIV2K_valid_HR'  # 验证集路径"
   ]
  }
 ],
 "metadata": {
  "kernelspec": {
   "display_name": "Python 3 (ipykernel)",
   "language": "python",
   "name": "python3"
  },
  "language_info": {
   "codemirror_mode": {
    "name": "ipython",
    "version": 3
   },
   "file_extension": ".py",
   "mimetype": "text/x-python",
   "name": "python",
   "nbconvert_exporter": "python",
   "pygments_lexer": "ipython3",
   "version": "3.12.3"
  }
 },
 "nbformat": 4,
 "nbformat_minor": 5
}
