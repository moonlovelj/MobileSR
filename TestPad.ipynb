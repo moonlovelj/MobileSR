{
 "cells": [
  {
   "cell_type": "code",
   "execution_count": 5,
   "id": "805b66c5-1306-4b7a-939d-06338dbc9e61",
   "metadata": {},
   "outputs": [
    {
     "name": "stdout",
     "output_type": "stream",
     "text": [
      "Symmetric 填充 (填充大小为2):\n",
      " [[1. 1. 1. 2. 3. 3. 3.]\n",
      " [1. 1. 1. 2. 3. 3. 3.]\n",
      " [1. 1. 1. 2. 3. 3. 3.]\n",
      " [4. 4. 4. 5. 6. 6. 6.]\n",
      " [7. 7. 7. 8. 9. 9. 9.]\n",
      " [7. 7. 7. 8. 9. 9. 9.]\n",
      " [7. 7. 7. 8. 9. 9. 9.]]\n"
     ]
    }
   ],
   "source": [
    "import torch\n",
    "import torch.nn.functional as F\n",
    "\n",
    "# 示例图像\n",
    "image = torch.tensor([\n",
    "    [1, 2, 3],\n",
    "    [4, 5, 6],\n",
    "    [7, 8, 9]\n",
    "], dtype=torch.float32).unsqueeze(0).unsqueeze(0)  # 添加batch维度和通道维度\n",
    "\n",
    "# 对称填充 (填充大小为2)\n",
    "symmetric_padded_image = F.pad(image, (2, 2, 2, 2), mode='replicate')\n",
    "\n",
    "# 移除batch和通道维度，显示填充后的图像\n",
    "print(\"Symmetric 填充 (填充大小为2):\\n\", symmetric_padded_image.squeeze().numpy())\n"
   ]
  }
 ],
 "metadata": {
  "kernelspec": {
   "display_name": "Python 3 (ipykernel)",
   "language": "python",
   "name": "python3"
  },
  "language_info": {
   "codemirror_mode": {
    "name": "ipython",
    "version": 3
   },
   "file_extension": ".py",
   "mimetype": "text/x-python",
   "name": "python",
   "nbconvert_exporter": "python",
   "pygments_lexer": "ipython3",
   "version": "3.12.3"
  }
 },
 "nbformat": 4,
 "nbformat_minor": 5
}
